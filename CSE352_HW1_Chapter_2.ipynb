{
  "cells": [
    {
      "cell_type": "markdown",
      "metadata": {
        "id": "0FyddoM3jF_d"
      },
      "source": [
        "# SBU CSE 352 - HW 1 -  Intelligent Agents: Reflex-Based Agents for the Vacuum-cleaner World\n",
        "\n",
        "---\n",
        "\n",
        "All student names in group: Dong Liang, Kevin Zheng, Hojat Jaffary\n",
        "\n",
        "I understand that my submission needs to be my own group's work: DL, KZ, HJ\n",
        "\n",
        "I understand that ChatGPT / Copilot / other AI tools are not allowed: DL, KZ, HJ\n",
        "\n",
        "## Instructions\n",
        "\n",
        "Total Points: 100\n",
        "\n",
        "Complete this notebook. Use the provided notebook cells and insert additional code and markdown cells as needed. Only use standard packages (numpy, scipy, and built-in packages like random). Submit the completely rendered notebook as a HTML file.\n",
        "\n",
        "## Introduction\n",
        "\n",
        "In this assignment you will implement a simulator environment for an automatic vacuum cleaner robot, a set of different reflex-based agent programs, and perform a comparison study for cleaning a single room. Focus on the __cleaning phase__ which starts when the robot is activated and ends when the last dirty square in the room has been cleaned. Someone else will take care of the agent program needed to navigate back to the charging station after the room is clean.\n",
        "\n",
        "## PEAS description of the cleaning phase\n",
        "\n",
        "__Performance Measure:__ Each action costs 1 energy unit. The performance is measured as the sum of the energy units used to clean the whole room.\n",
        "\n",
        "__Environment:__ A room with $n \\times n$ squares where $n = 5$. Dirt is randomly placed on each square with probability $p = 0.2$. For simplicity, you can assume that the agent knows the size and the layout of the room (i.e., it knows $n$). To start, the agent is placed on a random square.\n",
        "\n",
        "__Actuators:__ The agent can clean the current square (action `suck`) or move to an adjacent square by going `north`, `east`, `south`, or `west`.\n",
        "\n",
        "__Sensors:__ Four bumper sensors, one for north, east, south, and west; a dirt sensor reporting dirt in the current square.  \n",
        "\n",
        "\n",
        "## The agent program for a simple randomized agent\n",
        "\n",
        "The agent program is a function that gets sensor information (the current percepts) as the arguments. The arguments are:\n",
        "\n",
        "* A dictionary with boolean entries for the for bumper sensors `north`, `east`, `west`, `south`. E.g., if the agent is on the north-west corner, `bumpers` will be `{\"north\" : True, \"east\" : False, \"south\" : False, \"west\" : True}`.\n",
        "* The dirt sensor produces a boolean.\n",
        "\n",
        "The agent returns the chosen action as a string.\n",
        "\n",
        "Here is an example implementation for the agent program of a simple randomized agent:  "
      ]
    },
    {
      "cell_type": "code",
      "execution_count": null,
      "metadata": {
        "id": "2fDxkbCajF_f"
      },
      "outputs": [],
      "source": [
        "import numpy as np\n",
        "\n",
        "class Simple_Randomized_Agent:\n",
        "  def __init__(self):\n",
        "    pass\n",
        "  def action(self, bumpers, dirty, n = 5):\n",
        "    return np.random.choice([\"north\", \"east\", \"west\", \"south\", \"suck\"])"
      ]
    },
    {
      "cell_type": "code",
      "execution_count": null,
      "metadata": {
        "colab": {
          "base_uri": "https://localhost:8080/",
          "height": 36
        },
        "id": "QrLrE1XPjF_g",
        "outputId": "1f530e29-f869-41b5-8e4e-6ebca253e06b"
      },
      "outputs": [
        {
          "output_type": "execute_result",
          "data": {
            "text/plain": [
              "'west'"
            ],
            "application/vnd.google.colaboratory.intrinsic+json": {
              "type": "string"
            }
          },
          "metadata": {},
          "execution_count": 2
        }
      ],
      "source": [
        "# define percepts (current location is NW corner and it is dirty)\n",
        "bumpers = {\"north\" : True, \"east\" : False, \"south\" : False, \"west\" : True}\n",
        "dirty = True\n",
        "\n",
        "# call agent program function with percepts and it returns an action\n",
        "simple_randomized_agent = Simple_Randomized_Agent()\n",
        "simple_randomized_agent.action(bumpers, dirty)"
      ]
    },
    {
      "cell_type": "markdown",
      "metadata": {
        "id": "GB5AWgpmjF_g"
      },
      "source": [
        "__Note:__ This is not a rational intelligent agent. It ignores its sensors and may bump into a wall repeatedly or not clean a dirty square. You will be asked to implement rational agents below."
      ]
    },
    {
      "cell_type": "markdown",
      "metadata": {
        "id": "I_r7AxrIjF_g"
      },
      "source": [
        "## Simple environment example\n",
        "\n",
        "We implement a simple simulation environment that supplies the agent with its percepts.\n",
        "The simple environment is infinite in size (bumpers are always `False`) and every square is always dirty, even if the agent cleans it. The environment function returns a performance measure which is here the number of cleaned squares (since the room is infinite and all squares are constantly dirty, the agent can never clean the whole room as required in the PEAS description above). The energy budget of the agent is specified as `max_steps`."
      ]
    },
    {
      "cell_type": "code",
      "execution_count": null,
      "metadata": {
        "id": "OdiZBgUqjF_h"
      },
      "outputs": [],
      "source": [
        "def simple_environment(agent, max_steps, verbose = True):\n",
        "    num_cleaned = 0\n",
        "\n",
        "    for i in range(max_steps):\n",
        "        dirty = True\n",
        "        bumpers = {\"north\" : False, \"south\" : False, \"west\" : False, \"east\" : False}\n",
        "\n",
        "        action = agent.action(bumpers, dirty)\n",
        "        if (verbose): print(\"step\", i , \"- action:\", action)\n",
        "\n",
        "        if (action == \"suck\"):\n",
        "            num_cleaned = num_cleaned + 1\n",
        "\n",
        "    return num_cleaned\n",
        "\n"
      ]
    },
    {
      "cell_type": "markdown",
      "metadata": {
        "id": "Tdt7xvQkjF_h"
      },
      "source": [
        "Do one simulation run with a simple randomized agent that has enough energy for 20 steps."
      ]
    },
    {
      "cell_type": "code",
      "execution_count": null,
      "metadata": {
        "colab": {
          "base_uri": "https://localhost:8080/"
        },
        "id": "YBwp8uTEjF_h",
        "outputId": "c35f992d-4137-4947-cea1-891dfb0fe3ad"
      },
      "outputs": [
        {
          "output_type": "stream",
          "name": "stdout",
          "text": [
            "step 0 - action: south\n",
            "step 1 - action: west\n",
            "step 2 - action: west\n",
            "step 3 - action: north\n",
            "step 4 - action: east\n",
            "step 5 - action: suck\n",
            "step 6 - action: south\n",
            "step 7 - action: south\n",
            "step 8 - action: west\n",
            "step 9 - action: south\n",
            "step 10 - action: east\n",
            "step 11 - action: north\n",
            "step 12 - action: east\n",
            "step 13 - action: west\n",
            "step 14 - action: west\n",
            "step 15 - action: east\n",
            "step 16 - action: south\n",
            "step 17 - action: north\n",
            "step 18 - action: south\n",
            "step 19 - action: south\n"
          ]
        },
        {
          "output_type": "execute_result",
          "data": {
            "text/plain": [
              "1"
            ]
          },
          "metadata": {},
          "execution_count": 4
        }
      ],
      "source": [
        "simple_randomized_agent = Simple_Randomized_Agent()\n",
        "simple_environment(simple_randomized_agent, max_steps = 20)"
      ]
    },
    {
      "cell_type": "markdown",
      "metadata": {
        "id": "G_qQj5brjF_i"
      },
      "source": [
        "# Tasks\n",
        "\n",
        "## General [10 Points]\n",
        "\n",
        "1. Your implementation can use libraries like math, numpy, scipy, but not libraries that implement intelligent agents or complete search algorithms. Try to keep the code simple! In this course, we want to learn about the algorithms and we often do not need to use object-oriented design, for example. If it makes your code more simple objects are okay, but try to keep the code as simple as possible.\n",
        "2. You notebook needs to be formatted professionally.\n",
        "    - Add additional markdown blocks for your description, comments in the code, add tables and use mathplotlib to produce charts where appropriate\n",
        "    - Do not show debugging output or include an excessive amount of output.\n",
        "    - Check that your PDF file is readable. For example, long lines are cut off in the PDF file. You don't have control over page breaks, so do not worry about these.\n",
        "3. Document your code. Add a short discussion of how your implementation works and your design choices.\n",
        "\n",
        "\n",
        "## Task 1: Implement a simulation environment [20 Points]\n",
        "\n",
        "The simple environment above is not very realistic. Your environment simulator needs to follow the PEAS description from above. It needs to:\n",
        "\n",
        "* Initialize the environment by storing the state of each square (clean/dirty) and making some dirty. ([Help with random numbers and arrays in Python](https://github.com/mhahsler/CS7320-AI/blob/master/HOWTOs/random_numbers_and_arrays.ipynb))\n",
        "* Keep track of the agent's position.\n",
        "* Call the agent function repeatedly and provide the agent function with the sensor inputs.  \n",
        "* React to the agent's actions. E.g, by removing dirt from a square or moving the agent around unless there is a wall in the way.\n",
        "* Keep track of the performance measure. That is, track the agent's actions until all dirty squares are clean and count the number of actions it takes the agent to complete the task.\n",
        "\n",
        "The easiest implementation for the environment is to hold an 2-dimensional array to represent if squares are clean or dirty and to call the agent function in a loop until all squares are clean or a predefined number of steps have been reached (i.e., the robot runs out of energy).\n",
        "\n",
        "The simulation environment should be a function like the `simple_environment()` and needs to work with the simple randomized agent program from above. **Use the same environment for all your agent implementations in the tasks below.**\n",
        "\n",
        "*Note on debugging:* Debugging is difficult. Make sure your environment prints enough information when you use `verbose = True`. Also, implementing a function that the environment can use to displays the room with dirt and the current position of the robot at every step is very useful.  "
      ]
    },
    {
      "cell_type": "code",
      "execution_count": null,
      "metadata": {
        "id": "f_a8GJKYjF_i"
      },
      "outputs": [],
      "source": [
        "import random\n",
        "\n",
        "# Function to print dirty room\n",
        "def print_dirty_room(room):\n",
        "  for i in room:\n",
        "    row = \"\"\n",
        "    for j in i:\n",
        "      if(j == True):\n",
        "        row += \"DIRTY \"\n",
        "      else:\n",
        "        row += \"CLEAN \"\n",
        "    print(row)\n",
        "\n",
        "# Function to print agent location\n",
        "def print_agent_location(location):\n",
        "  print(\"Agent is at row {0}, column {1}\".format(location[\"row\"], location[\"column\"]))\n",
        "\n",
        "# Function for the environment\n",
        "def simple_environment(agent, n = 5, verbose = True, max_steps = 100000):\n",
        "\n",
        "  # Initialize agent's position\n",
        "  agent_position = {\"row\": random.randint(0, n-1), \"column\": random.randint(0, n-1)}\n",
        "\n",
        "  # Initialize agent's sensors/bumpers\n",
        "  bumpers = { \"north\" : False, \"south\" : False, \"west\" : False, \"east\" : False }\n",
        "  if(agent_position[\"row\"] == 0):\n",
        "    bumpers[\"north\"] = True\n",
        "  if(agent_position[\"row\"] == n-1):\n",
        "    bumpers[\"south\"] = True\n",
        "  if(agent_position[\"column\"] == 0):\n",
        "    bumpers[\"west\"] = True\n",
        "  if(agent_position[\"column\"] == n-1):\n",
        "    bumpers[\"east\"] = True\n",
        "\n",
        "  # Initialize environment with probability(dirt) = 0.2 where True = dirty and False = clean\n",
        "  dirty = []\n",
        "  for i in range(n):\n",
        "    row = []\n",
        "    for j in range(n):\n",
        "      if(random.random() < 0.2):\n",
        "        row.append(True)\n",
        "      else:\n",
        "        row.append(False)\n",
        "    dirty.append(row)\n",
        "\n",
        "  # Define performance measure (in this case it's the number of energy unit used)\n",
        "  energy_used = 0\n",
        "\n",
        "  # Simulate environment\n",
        "  while(any(True in row for row in dirty) and energy_used < max_steps):\n",
        "\n",
        "    # Retrieve agent's action\n",
        "    action = agent.action(bumpers, dirty[agent_position[\"row\"]][agent_position[\"column\"]], n)\n",
        "\n",
        "    # Update environment based on agent's action\n",
        "    if(action == \"suck\"):\n",
        "      dirty[agent_position[\"row\"]][agent_position[\"column\"]] = False\n",
        "\n",
        "    if(action == \"north\"):\n",
        "      if(agent_position[\"row\"] <= 1):\n",
        "        agent_position[\"row\"] = 0\n",
        "        bumpers[\"north\"] = True\n",
        "      elif(agent_position[\"row\"] == n-1):\n",
        "        agent_position[\"row\"] = agent_position[\"row\"] - 1\n",
        "        bumpers[\"south\"] = False\n",
        "      else:\n",
        "        agent_position[\"row\"] = agent_position[\"row\"] - 1\n",
        "\n",
        "    if(action == \"south\"):\n",
        "      if(agent_position[\"row\"] >= n-2):\n",
        "        agent_position[\"row\"] = n-1\n",
        "        bumpers[\"south\"] = True\n",
        "      elif(agent_position[\"row\"] == 0):\n",
        "        agent_position[\"row\"] = agent_position[\"row\"] + 1\n",
        "        bumpers[\"north\"] = False\n",
        "      else:\n",
        "        agent_position[\"row\"] = agent_position[\"row\"] + 1\n",
        "\n",
        "    if(action == \"west\"):\n",
        "      if(agent_position[\"column\"] <= 1):\n",
        "        agent_position[\"column\"] = 0\n",
        "        bumpers[\"west\"] = True\n",
        "      elif(agent_position[\"column\"] == n-1):\n",
        "        agent_position[\"column\"] = agent_position[\"column\"] - 1\n",
        "        bumpers[\"east\"] = False\n",
        "      else:\n",
        "        agent_position[\"column\"] = agent_position[\"column\"] - 1\n",
        "\n",
        "    if(action == \"east\"):\n",
        "      if(agent_position[\"column\"] >= n-2):\n",
        "        agent_position[\"column\"] = n-1\n",
        "        bumpers[\"east\"] = True\n",
        "      elif(agent_position[\"column\"] == 0):\n",
        "        agent_position[\"column\"] = agent_position[\"column\"] + 1\n",
        "        bumpers[\"west\"] = False\n",
        "      else:\n",
        "        agent_position[\"column\"] = agent_position[\"column\"] + 1\n",
        "\n",
        "    # Print current action\n",
        "    if(verbose):\n",
        "      print(\"step \", energy_used, \" - action : \", action)\n",
        "\n",
        "    # Update variable for performance measure\n",
        "    energy_used = energy_used + 1\n",
        "\n",
        "  return energy_used"
      ]
    },
    {
      "cell_type": "markdown",
      "metadata": {
        "id": "gXsl-EjMjF_j"
      },
      "source": [
        "## Task 2:  Implement a simple reflex agent [10 Points]\n",
        "\n",
        "The simple reflex agent randomly walks around but reacts to the bumper sensor by not bumping into the wall and to dirt with sucking. Implement the agent program as a function.\n",
        "\n",
        "_Note:_ Agents cannot directly use variable in the environment. They only gets the percepts as the arguments to the agent function."
      ]
    },
    {
      "cell_type": "code",
      "execution_count": null,
      "metadata": {
        "id": "Q0ddGaBNjF_j"
      },
      "outputs": [],
      "source": [
        "# Your code and description goes here\n",
        "class Simple_Reflex_Agent:\n",
        "  def __init__(self):\n",
        "    pass\n",
        "\n",
        "  def action(self, bumper, current_tile_dirty, n):\n",
        "    if(current_tile_dirty): # Prioritize cleaning current tile if dirty\n",
        "      return \"suck\"\n",
        "    elif(bumper[\"north\"] and bumper[\"west\"]): # Disallow actions: \"north\" and \"west\" if corresponding bumper is True\n",
        "      return random.choice([\"south\",\"east\"])\n",
        "    elif(bumper[\"south\"] and bumper[\"west\"]): # Disallow actions: \"south\" and \"west\" if corresponding bumper is True\n",
        "      return random.choice([\"north\",\"east\"])\n",
        "    elif(bumper[\"north\"] and bumper[\"east\"]): # Disallow actions: \"north\" and \"east\" if corresponding bumper is True\n",
        "      return random.choice([\"south\",\"west\"])\n",
        "    elif(bumper[\"south\"] and bumper[\"east\"]): # Disallow actions: \"south\" and \"east\" if corresponding bumper is True\n",
        "      return random.choice([\"north\",\"west\"])\n",
        "    elif(bumper[\"north\"]): # Disallow actions: \"north\" if corresponding bumper is True\n",
        "      return random.choice([\"south\",\"west\",\"east\"])\n",
        "    elif(bumper[\"south\"]): # Disallow actions: \"south\" if corresponding bumper is True\n",
        "      return random.choice([\"north\",\"west\",\"east\"])\n",
        "    elif(bumper[\"east\"]): # Disallow actions: \"east\" if corresponding bumper is True\n",
        "      return random.choice([\"north\",\"west\",\"south\"])\n",
        "    elif(bumper[\"west\"]): # Disallow actions: \"west\" if corresponding bumper is True\n",
        "      return random.choice([\"north\",\"south\",\"east\"])\n",
        "    else: # Allow all actions if none of the bumper is True\n",
        "      return random.choice([\"north\",\"south\",\"east\",\"west\"])"
      ]
    },
    {
      "cell_type": "markdown",
      "metadata": {
        "id": "M1q8qmwvjF_j"
      },
      "source": [
        "## Task 3: Implement a model-based reflex agent [20 Points]\n",
        "\n",
        "Model-based agents use a state to keep track of what they have done and perceived so far. Your agent needs to find out where it is located and then keep track of its current location. You also need a set of rules based on the state and the percepts to make sure that the agent will clean the whole room. For example, the agent can move to a corner to determine its location and then it can navigate through the whole room and clean dirty squares.\n",
        "\n",
        "Describe how you define the __agent state__ and how your agent works before implementing it. ([Help with implementing state information on Python](https://github.com/mhahsler/CS7320-AI/blob/master/HOWTOs/store_agent_state_information.ipynb))"
      ]
    },
    {
      "cell_type": "markdown",
      "source": [
        "## Description of my Model_Based_Reflex_Agent\n",
        "\n",
        " The agent has the following state:\n",
        "\n",
        " * `location` - to keep track of the current location, -1 if unknown\n",
        " * `last_action` - the lastest action (excluding suck) performed, only recorded if location is known\n",
        "\n",
        "### How will the agent work?\n",
        " 1. The agent will prioritize going to the North West corner in order to get ts location,\n",
        "    it will know to perform to this step if location contains -1\n",
        " 2. Once the location is known, it will execute actions in the following order:\n",
        "    1. if current square is dirty then suck\n",
        "    2. if last_action is undefined, go east\n",
        "    3. if last_action is west or east and the same action is not allowed due to bumpers then go south\n",
        "    4. if last_action is south, go east or west, whichever is allowed by the bumper\n",
        "    5. follow last_action\n",
        "\n",
        "By following the steps above, the agent will, starting from North West, go to the right until not possible to clear the row, then down one space then to the left until not possible to clear next row then down and repeat, forming a snake-like path"
      ],
      "metadata": {
        "id": "_I9qJ9WtsaiU"
      }
    },
    {
      "cell_type": "code",
      "execution_count": null,
      "metadata": {
        "id": "wZqL8CCAjF_j"
      },
      "outputs": [],
      "source": [
        "# Your code goes here\n",
        "class Model_Based_Reflex_Agent:\n",
        "\n",
        "  # Define states\n",
        "  def __init__(self):\n",
        "    self.location = [-1,-1]\n",
        "    self.last_action = None\n",
        "\n",
        "  def action(self, bumper, current_tile_dirty, n):\n",
        "    if(self.location == [-1,-1]): # If agent don't know its location\n",
        "      if(bumper[\"north\"] and bumper[\"west\"]): # If arrived at the North West corner then update its location and recall itself\n",
        "        self.location = [0,0]\n",
        "        return self.action(bumper, current_tile_dirty, n)\n",
        "      elif(bumper[\"north\"]): # Go West and North if possible\n",
        "        return \"west\"\n",
        "      else:\n",
        "        return \"north\"\n",
        "    elif(current_tile_dirty): # Clean current tile if dirty\n",
        "      return \"suck\"\n",
        "    elif(self.last_action == None): # This executes ONLY once right after arriving at North West corner\n",
        "      self.last_action = \"east\"\n",
        "      return \"east\"\n",
        "    elif((self.last_action == \"east\" and bumper[\"east\"] == True) or (self.last_action == \"west\" and bumper[\"west\"] == True)): # Go south when reached a wall\n",
        "      self.last_action = \"south\"\n",
        "      return \"south\"\n",
        "    elif(self.last_action == \"south\" and bumper[\"east\"] == True): # Only executes after going south, then goes west or east depending on whichever is allowed by the bumper\n",
        "      self.last_action = \"west\"\n",
        "      return \"west\"\n",
        "    elif(self.last_action == \"south\" and bumper[\"west\"] == True): # Only executes after going south, then goes west or east depending on whichever is allowed by the bumper\n",
        "      self.last_action = \"east\"\n",
        "      return \"east\"\n",
        "    else: # Else execute same action from before\n",
        "      return self.last_action"
      ]
    },
    {
      "cell_type": "markdown",
      "metadata": {
        "id": "Qi3JK-9hjF_k"
      },
      "source": [
        "## Task 4: Simulation study [30 Points]\n",
        "\n",
        "Compare the performance (the performance measure is defined in the PEAS description above) of the agents using  environments of different size. E.g., $5 \\times 5$, $10 \\times 10$ and\n",
        "$100 \\times 100$. Use 100 random runs for each with 100000 max steps. Present the results using tables and graphs. Discuss the differences between the agents.\n",
        "([Help with charts and tables in Python](https://github.com/mhahsler/CS7320-AI/blob/master/HOWTOs/charts_and_tables.ipynb))"
      ]
    },
    {
      "cell_type": "code",
      "execution_count": null,
      "metadata": {
        "id": "ccpkRw9VjF_k"
      },
      "outputs": [],
      "source": [
        "# Your code goes here\n",
        "random_5_by_5 = []\n",
        "random_10_by_10 = []\n",
        "random_100_by_100 = []\n",
        "for i in range (100):\n",
        "  random_5_by_5.append(simple_environment(agent = Simple_Randomized_Agent(), n = 5, verbose = False, max_steps = 100000))\n",
        "  random_10_by_10.append(simple_environment(agent = Simple_Randomized_Agent(), n = 10, verbose = False, max_steps = 100000))\n",
        "  random_100_by_100.append(simple_environment(agent = Simple_Randomized_Agent(), n = 100, verbose = False, max_steps = 100000))\n",
        "\n",
        "simple_5_by_5 = []\n",
        "simple_10_by_10 = []\n",
        "simple_100_by_100 = []\n",
        "for i in range (100):\n",
        "  simple_5_by_5.append(simple_environment(agent = Simple_Reflex_Agent(), n = 5, verbose = False, max_steps = 100000))\n",
        "  simple_10_by_10.append(simple_environment(agent = Simple_Reflex_Agent(), n = 10, verbose = False, max_steps = 100000))\n",
        "  simple_100_by_100.append(simple_environment(agent = Simple_Reflex_Agent(), n = 100, verbose = False, max_steps = 100000))\n",
        "\n",
        "model_5_by_5 = []\n",
        "model_10_by_10 = []\n",
        "model_100_by_100 = []\n",
        "for i in range (100):\n",
        "  model_5_by_5.append(simple_environment(agent = Model_Based_Reflex_Agent(), n = 5, verbose = False, max_steps = 100000))\n",
        "  model_10_by_10.append(simple_environment(agent = Model_Based_Reflex_Agent(), n = 10, verbose = False, max_steps = 100000))\n",
        "  model_100_by_100.append(simple_environment(agent = Model_Based_Reflex_Agent(), n = 100, verbose = False, max_steps = 100000))\n"
      ]
    },
    {
      "cell_type": "code",
      "execution_count": null,
      "metadata": {
        "colab": {
          "base_uri": "https://localhost:8080/",
          "height": 143
        },
        "id": "J361sF6yjF_k",
        "outputId": "d76a91a7-d09a-4b5d-f9bf-a1c18bc61c21"
      },
      "outputs": [
        {
          "output_type": "execute_result",
          "data": {
            "text/plain": [
              "         Simple Random Agent  Simple Reflex Agent  Model-based Reflex Agent\n",
              "5x5                   447.88               101.52                     28.97\n",
              "10x10                3346.48               855.43                    123.85\n",
              "100x100            100000.00            100000.00                  12091.24"
            ],
            "text/html": [
              "\n",
              "  <div id=\"df-f7e5d502-bc1f-4533-b451-2f8ec99ba016\" class=\"colab-df-container\">\n",
              "    <div>\n",
              "<style scoped>\n",
              "    .dataframe tbody tr th:only-of-type {\n",
              "        vertical-align: middle;\n",
              "    }\n",
              "\n",
              "    .dataframe tbody tr th {\n",
              "        vertical-align: top;\n",
              "    }\n",
              "\n",
              "    .dataframe thead th {\n",
              "        text-align: right;\n",
              "    }\n",
              "</style>\n",
              "<table border=\"1\" class=\"dataframe\">\n",
              "  <thead>\n",
              "    <tr style=\"text-align: right;\">\n",
              "      <th></th>\n",
              "      <th>Simple Random Agent</th>\n",
              "      <th>Simple Reflex Agent</th>\n",
              "      <th>Model-based Reflex Agent</th>\n",
              "    </tr>\n",
              "  </thead>\n",
              "  <tbody>\n",
              "    <tr>\n",
              "      <th>5x5</th>\n",
              "      <td>447.88</td>\n",
              "      <td>101.52</td>\n",
              "      <td>28.97</td>\n",
              "    </tr>\n",
              "    <tr>\n",
              "      <th>10x10</th>\n",
              "      <td>3346.48</td>\n",
              "      <td>855.43</td>\n",
              "      <td>123.85</td>\n",
              "    </tr>\n",
              "    <tr>\n",
              "      <th>100x100</th>\n",
              "      <td>100000.00</td>\n",
              "      <td>100000.00</td>\n",
              "      <td>12091.24</td>\n",
              "    </tr>\n",
              "  </tbody>\n",
              "</table>\n",
              "</div>\n",
              "    <div class=\"colab-df-buttons\">\n",
              "\n",
              "  <div class=\"colab-df-container\">\n",
              "    <button class=\"colab-df-convert\" onclick=\"convertToInteractive('df-f7e5d502-bc1f-4533-b451-2f8ec99ba016')\"\n",
              "            title=\"Convert this dataframe to an interactive table.\"\n",
              "            style=\"display:none;\">\n",
              "\n",
              "  <svg xmlns=\"http://www.w3.org/2000/svg\" height=\"24px\" viewBox=\"0 -960 960 960\">\n",
              "    <path d=\"M120-120v-720h720v720H120Zm60-500h600v-160H180v160Zm220 220h160v-160H400v160Zm0 220h160v-160H400v160ZM180-400h160v-160H180v160Zm440 0h160v-160H620v160ZM180-180h160v-160H180v160Zm440 0h160v-160H620v160Z\"/>\n",
              "  </svg>\n",
              "    </button>\n",
              "\n",
              "  <style>\n",
              "    .colab-df-container {\n",
              "      display:flex;\n",
              "      gap: 12px;\n",
              "    }\n",
              "\n",
              "    .colab-df-convert {\n",
              "      background-color: #E8F0FE;\n",
              "      border: none;\n",
              "      border-radius: 50%;\n",
              "      cursor: pointer;\n",
              "      display: none;\n",
              "      fill: #1967D2;\n",
              "      height: 32px;\n",
              "      padding: 0 0 0 0;\n",
              "      width: 32px;\n",
              "    }\n",
              "\n",
              "    .colab-df-convert:hover {\n",
              "      background-color: #E2EBFA;\n",
              "      box-shadow: 0px 1px 2px rgba(60, 64, 67, 0.3), 0px 1px 3px 1px rgba(60, 64, 67, 0.15);\n",
              "      fill: #174EA6;\n",
              "    }\n",
              "\n",
              "    .colab-df-buttons div {\n",
              "      margin-bottom: 4px;\n",
              "    }\n",
              "\n",
              "    [theme=dark] .colab-df-convert {\n",
              "      background-color: #3B4455;\n",
              "      fill: #D2E3FC;\n",
              "    }\n",
              "\n",
              "    [theme=dark] .colab-df-convert:hover {\n",
              "      background-color: #434B5C;\n",
              "      box-shadow: 0px 1px 3px 1px rgba(0, 0, 0, 0.15);\n",
              "      filter: drop-shadow(0px 1px 2px rgba(0, 0, 0, 0.3));\n",
              "      fill: #FFFFFF;\n",
              "    }\n",
              "  </style>\n",
              "\n",
              "    <script>\n",
              "      const buttonEl =\n",
              "        document.querySelector('#df-f7e5d502-bc1f-4533-b451-2f8ec99ba016 button.colab-df-convert');\n",
              "      buttonEl.style.display =\n",
              "        google.colab.kernel.accessAllowed ? 'block' : 'none';\n",
              "\n",
              "      async function convertToInteractive(key) {\n",
              "        const element = document.querySelector('#df-f7e5d502-bc1f-4533-b451-2f8ec99ba016');\n",
              "        const dataTable =\n",
              "          await google.colab.kernel.invokeFunction('convertToInteractive',\n",
              "                                                    [key], {});\n",
              "        if (!dataTable) return;\n",
              "\n",
              "        const docLinkHtml = 'Like what you see? Visit the ' +\n",
              "          '<a target=\"_blank\" href=https://colab.research.google.com/notebooks/data_table.ipynb>data table notebook</a>'\n",
              "          + ' to learn more about interactive tables.';\n",
              "        element.innerHTML = '';\n",
              "        dataTable['output_type'] = 'display_data';\n",
              "        await google.colab.output.renderOutput(dataTable, element);\n",
              "        const docLink = document.createElement('div');\n",
              "        docLink.innerHTML = docLinkHtml;\n",
              "        element.appendChild(docLink);\n",
              "      }\n",
              "    </script>\n",
              "  </div>\n",
              "\n",
              "\n",
              "<div id=\"df-56f3e911-ec17-4a6f-a95d-ab026638e1c9\">\n",
              "  <button class=\"colab-df-quickchart\" onclick=\"quickchart('df-56f3e911-ec17-4a6f-a95d-ab026638e1c9')\"\n",
              "            title=\"Suggest charts\"\n",
              "            style=\"display:none;\">\n",
              "\n",
              "<svg xmlns=\"http://www.w3.org/2000/svg\" height=\"24px\"viewBox=\"0 0 24 24\"\n",
              "     width=\"24px\">\n",
              "    <g>\n",
              "        <path d=\"M19 3H5c-1.1 0-2 .9-2 2v14c0 1.1.9 2 2 2h14c1.1 0 2-.9 2-2V5c0-1.1-.9-2-2-2zM9 17H7v-7h2v7zm4 0h-2V7h2v10zm4 0h-2v-4h2v4z\"/>\n",
              "    </g>\n",
              "</svg>\n",
              "  </button>\n",
              "\n",
              "<style>\n",
              "  .colab-df-quickchart {\n",
              "      --bg-color: #E8F0FE;\n",
              "      --fill-color: #1967D2;\n",
              "      --hover-bg-color: #E2EBFA;\n",
              "      --hover-fill-color: #174EA6;\n",
              "      --disabled-fill-color: #AAA;\n",
              "      --disabled-bg-color: #DDD;\n",
              "  }\n",
              "\n",
              "  [theme=dark] .colab-df-quickchart {\n",
              "      --bg-color: #3B4455;\n",
              "      --fill-color: #D2E3FC;\n",
              "      --hover-bg-color: #434B5C;\n",
              "      --hover-fill-color: #FFFFFF;\n",
              "      --disabled-bg-color: #3B4455;\n",
              "      --disabled-fill-color: #666;\n",
              "  }\n",
              "\n",
              "  .colab-df-quickchart {\n",
              "    background-color: var(--bg-color);\n",
              "    border: none;\n",
              "    border-radius: 50%;\n",
              "    cursor: pointer;\n",
              "    display: none;\n",
              "    fill: var(--fill-color);\n",
              "    height: 32px;\n",
              "    padding: 0;\n",
              "    width: 32px;\n",
              "  }\n",
              "\n",
              "  .colab-df-quickchart:hover {\n",
              "    background-color: var(--hover-bg-color);\n",
              "    box-shadow: 0 1px 2px rgba(60, 64, 67, 0.3), 0 1px 3px 1px rgba(60, 64, 67, 0.15);\n",
              "    fill: var(--button-hover-fill-color);\n",
              "  }\n",
              "\n",
              "  .colab-df-quickchart-complete:disabled,\n",
              "  .colab-df-quickchart-complete:disabled:hover {\n",
              "    background-color: var(--disabled-bg-color);\n",
              "    fill: var(--disabled-fill-color);\n",
              "    box-shadow: none;\n",
              "  }\n",
              "\n",
              "  .colab-df-spinner {\n",
              "    border: 2px solid var(--fill-color);\n",
              "    border-color: transparent;\n",
              "    border-bottom-color: var(--fill-color);\n",
              "    animation:\n",
              "      spin 1s steps(1) infinite;\n",
              "  }\n",
              "\n",
              "  @keyframes spin {\n",
              "    0% {\n",
              "      border-color: transparent;\n",
              "      border-bottom-color: var(--fill-color);\n",
              "      border-left-color: var(--fill-color);\n",
              "    }\n",
              "    20% {\n",
              "      border-color: transparent;\n",
              "      border-left-color: var(--fill-color);\n",
              "      border-top-color: var(--fill-color);\n",
              "    }\n",
              "    30% {\n",
              "      border-color: transparent;\n",
              "      border-left-color: var(--fill-color);\n",
              "      border-top-color: var(--fill-color);\n",
              "      border-right-color: var(--fill-color);\n",
              "    }\n",
              "    40% {\n",
              "      border-color: transparent;\n",
              "      border-right-color: var(--fill-color);\n",
              "      border-top-color: var(--fill-color);\n",
              "    }\n",
              "    60% {\n",
              "      border-color: transparent;\n",
              "      border-right-color: var(--fill-color);\n",
              "    }\n",
              "    80% {\n",
              "      border-color: transparent;\n",
              "      border-right-color: var(--fill-color);\n",
              "      border-bottom-color: var(--fill-color);\n",
              "    }\n",
              "    90% {\n",
              "      border-color: transparent;\n",
              "      border-bottom-color: var(--fill-color);\n",
              "    }\n",
              "  }\n",
              "</style>\n",
              "\n",
              "  <script>\n",
              "    async function quickchart(key) {\n",
              "      const quickchartButtonEl =\n",
              "        document.querySelector('#' + key + ' button');\n",
              "      quickchartButtonEl.disabled = true;  // To prevent multiple clicks.\n",
              "      quickchartButtonEl.classList.add('colab-df-spinner');\n",
              "      try {\n",
              "        const charts = await google.colab.kernel.invokeFunction(\n",
              "            'suggestCharts', [key], {});\n",
              "      } catch (error) {\n",
              "        console.error('Error during call to suggestCharts:', error);\n",
              "      }\n",
              "      quickchartButtonEl.classList.remove('colab-df-spinner');\n",
              "      quickchartButtonEl.classList.add('colab-df-quickchart-complete');\n",
              "    }\n",
              "    (() => {\n",
              "      let quickchartButtonEl =\n",
              "        document.querySelector('#df-56f3e911-ec17-4a6f-a95d-ab026638e1c9 button');\n",
              "      quickchartButtonEl.style.display =\n",
              "        google.colab.kernel.accessAllowed ? 'block' : 'none';\n",
              "    })();\n",
              "  </script>\n",
              "</div>\n",
              "    </div>\n",
              "  </div>\n"
            ]
          },
          "metadata": {},
          "execution_count": 14
        }
      ],
      "source": [
        "# Your graphs and discussion of the results goes here\n",
        "import pandas as pd\n",
        "import matplotlib.pyplot as plt\n",
        "\n",
        "data = [[\n",
        "          sum(random_5_by_5)/100,\n",
        "          sum(simple_5_by_5)/100,\n",
        "          sum(model_5_by_5)/100\n",
        "        ],\n",
        "        [\n",
        "          sum(random_10_by_10)/100,\n",
        "          sum(simple_10_by_10)/100,\n",
        "          sum(model_10_by_10)/100\n",
        "        ],\n",
        "        [\n",
        "          sum(random_100_by_100)/100,\n",
        "          sum(simple_100_by_100)/100,\n",
        "          sum(model_100_by_100)/100\n",
        "        ]]\n",
        "\n",
        "pd.DataFrame(data, index = [\"5x5\",\"10x10\",\"100x100\"], columns = [\"Simple Random Agent\", \"Simple Reflex Agent\", \"Model-based Reflex Agent\"])"
      ]
    },
    {
      "cell_type": "code",
      "source": [
        "performance_5_by_5 = data[0]\n",
        "performance_10_by_10 = data[1]\n",
        "performance_100_by_100 = data[2]\n",
        "\n",
        "columns = [\"Simple Random Agent\", \"Simple Reflex Agent\", \"Model-based Reflex Agent\"]\n",
        "plt.ylabel(\"Mean performance\")\n",
        "\n",
        "print(\"Mean performance for 5x5:\")\n",
        "plt.bar(columns, performance_5_by_5)\n",
        "plt.show()\n",
        "\n",
        "print(\"\\nMean performance for 10x10:\")\n",
        "plt.bar(columns, performance_10_by_10)\n",
        "plt.show()\n",
        "\n",
        "print(\"\\nMean performance for 100x100:\")\n",
        "plt.bar(columns, performance_100_by_100)\n",
        "plt.show()"
      ],
      "metadata": {
        "colab": {
          "base_uri": "https://localhost:8080/",
          "height": 1347
        },
        "id": "esO9yBbxHWxD",
        "outputId": "2e336ce6-3124-41d3-abd3-e2a6f8a4eafc"
      },
      "execution_count": null,
      "outputs": [
        {
          "output_type": "stream",
          "name": "stdout",
          "text": [
            "Mean performance for 5x5:\n"
          ]
        },
        {
          "output_type": "display_data",
          "data": {
            "text/plain": [
              "<Figure size 640x480 with 1 Axes>"
            ],
            "image/png": "[encoded data removed]"
          },
          "metadata": {}
        },
        {
          "output_type": "stream",
          "name": "stdout",
          "text": [
            "\n",
            "Mean performance for 10x10:\n"
          ]
        },
        {
          "output_type": "display_data",
          "data": {
            "text/plain": [
              "<Figure size 640x480 with 1 Axes>"
            ],
            "image/png": "[encoded data removed]"
          },
          "metadata": {}
        },
        {
          "output_type": "stream",
          "name": "stdout",
          "text": [
            "\n",
            "Mean performance for 100x100:\n"
          ]
        },
        {
          "output_type": "display_data",
          "data": {
            "text/plain": [
              "<Figure size 640x480 with 1 Axes>"
            ],
            "image/png": "[encoded data removed]"
          },
          "metadata": {}
        }
      ]
    },
    {
      "cell_type": "markdown",
      "metadata": {
        "id": "LVOWQhVOjF_k"
      },
      "source": [
        "## Task 5: Robustness of the agent implementations [10 Points]\n",
        "\n",
        "Describe how **your agent implementations** will perform\n",
        "\n",
        "* if it is put into a rectangular room with unknown size,\n",
        "* if the cleaning area can have an irregular shape (e.g., a hallway connecting two rooms), or\n",
        "* if the room contains obstacles (i.e., squares that it cannot pass through and trigger the bumper sensors).\n",
        "\n",
        "My Answer:\n",
        "\n",
        "**1) If put into rectangular room with unknown size:**\n",
        "\n",
        "Model_Based_Reflex_Agent:\n",
        "* Will still work because by first identifying its location by going\n",
        "  to the North West corner then clearing each row at a time, it guarentees\n",
        "  that the room will be cleaned\n",
        "* The worst run time of a unknown rectangular room of M by N is\n",
        "  (M+N) + 2MN = O(MN) because (M+N) is the # of steps to get to\n",
        "  North West corner, MN is the amount of steps required to travel\n",
        "  across the entire rectangular room, and MN to clean each space\n",
        "Simple_Reflex_Agent:\n",
        "* Might work if lucky because the steps chosen by this agent is completely\n",
        "  random with restrictions from the bumper, thus it can end in an infinite loop\n",
        "     \n",
        "**2) If the cleaning area have an irregular shape:**\n",
        "\n",
        "Model_Based_Reflex_Agent:\n",
        "* This agent will fail at this task because in cases where the room is\n",
        "  not a square or rectangle because of two main reasons:\n",
        "    1. The agent will very likely to incorrectly find starting location and\n",
        "        thus will miss cleanining part of the room\n",
        "    2. Even if the agent does manage to find the correct starting location\n",
        "        it will not path through the entire shape because the agent only\n",
        "        recognizes shapes with parallel width and length\n",
        "        Example (X represents the shape, O represent the path taken by\n",
        "        agent after it somehow finds the correct starting location):\n",
        "        XXXX             OOOO\n",
        "        XXXXXX           OOOOOX\n",
        "Simple_Reflex_Agent:\n",
        "* Might work if lucky because the steps chosen by this agent is completely\n",
        "  random with restrictions from the bumper, thus it can end in an infinite loop\n",
        "\n",
        "**3) If the room contains obstacles**\n",
        "     \n",
        "Model_Based_Reflex_Agent:\n",
        "* The agent will fail because by adding roadblocks in the path, the agent\n",
        "  doesn't recognizes it. Instead the agent will treat the roadblock as if\n",
        "  it reach the end of the current row and think that the row is finished\n",
        "  cleaning, thus leaving part of some rows unattended\n",
        "Simple_Reflex_Agent:\n",
        "* Might work if lucky because the steps chosen by this agent is completely\n",
        "  random with restrictions from the bumper, thus it can end in an infinite loop\n"
      ]
    },
    {
      "cell_type": "code",
      "source": [
        "TEST"
      ],
      "metadata": {
        "id": "Jv5IgMZ2ts_p"
      },
      "execution_count": null,
      "outputs": []
    },
    {
      "cell_type": "markdown",
      "metadata": {
        "id": "w9DyCkSckcFB"
      },
      "source": [
        "\n",
        "\n",
        "---\n",
        "Assignment adapted from [Michael Hahsler](https://github.com/mhahsler/CS7320-AI) under [CC BY-SA](https://creativecommons.org/licenses/by-sa/4.0/deed.en) license.\n"
      ]
    },
    {
      "cell_type": "code",
      "source": [
        "TEST"
      ],
      "metadata": {
        "id": "blohBvUUtwbN"
      },
      "execution_count": null,
      "outputs": []
    },
    {
      "cell_type": "code",
      "source": [
        "TEST"
      ],
      "metadata": {
        "id": "dUqRlM22twr6"
      },
      "execution_count": null,
      "outputs": []
    },
    {
      "cell_type": "code",
      "source": [
        "TEST"
      ],
      "metadata": {
        "id": "ouGWShpitwyy"
      },
      "execution_count": null,
      "outputs": []
    },
    {
      "cell_type": "code",
      "source": [
        "TEST"
      ],
      "metadata": {
        "id": "BQ2evO9Vtw1L"
      },
      "execution_count": null,
      "outputs": []
    },
    {
      "cell_type": "code",
      "source": [
        "TEST"
      ],
      "metadata": {
        "id": "wQFGymzntw3W"
      },
      "execution_count": null,
      "outputs": []
    },
    {
      "cell_type": "code",
      "source": [
        "TEST"
      ],
      "metadata": {
        "id": "sM2D2Memtw5g"
      },
      "execution_count": null,
      "outputs": []
    },
    {
      "cell_type": "code",
      "source": [
        "TEST"
      ],
      "metadata": {
        "id": "BBKBG-kdtw7h"
      },
      "execution_count": null,
      "outputs": []
    },
    {
      "cell_type": "code",
      "source": [
        "TEST"
      ],
      "metadata": {
        "id": "at2fvC_0tw9b"
      },
      "execution_count": null,
      "outputs": []
    },
    {
      "cell_type": "code",
      "source": [
        "TEST"
      ],
      "metadata": {
        "id": "8ophJEottw_K"
      },
      "execution_count": null,
      "outputs": []
    },
    {
      "cell_type": "code",
      "source": [
        "TEST"
      ],
      "metadata": {
        "id": "UmgUrSbrtxA-"
      },
      "execution_count": null,
      "outputs": []
    },
    {
      "cell_type": "code",
      "source": [
        "TEST"
      ],
      "metadata": {
        "id": "tmXFrkZytxC5"
      },
      "execution_count": null,
      "outputs": []
    },
    {
      "cell_type": "code",
      "source": [
        "TEST"
      ],
      "metadata": {
        "id": "FlxSdkgytxEE"
      },
      "execution_count": null,
      "outputs": []
    },
    {
      "cell_type": "code",
      "source": [
        "TEST"
      ],
      "metadata": {
        "id": "4bywkUV7txF7"
      },
      "execution_count": null,
      "outputs": []
    },
    {
      "cell_type": "code",
      "source": [
        "TEST"
      ],
      "metadata": {
        "id": "qpL84tbtt0mY"
      },
      "execution_count": null,
      "outputs": []
    },
    {
      "cell_type": "code",
      "source": [
        "TEST"
      ],
      "metadata": {
        "id": "JwWbl-nZt0qC"
      },
      "execution_count": null,
      "outputs": []
    },
    {
      "cell_type": "code",
      "source": [
        "TEST"
      ],
      "metadata": {
        "id": "3xTwP1gDt0sk"
      },
      "execution_count": null,
      "outputs": []
    },
    {
      "cell_type": "code",
      "source": [
        "TEST"
      ],
      "metadata": {
        "id": "u2IyS6Fqt0ui"
      },
      "execution_count": null,
      "outputs": []
    },
    {
      "cell_type": "code",
      "source": [
        "TEST"
      ],
      "metadata": {
        "id": "9duA2T12t0wa"
      },
      "execution_count": null,
      "outputs": []
    },
    {
      "cell_type": "code",
      "source": [
        "TEST"
      ],
      "metadata": {
        "id": "-dLSxU01t0ya"
      },
      "execution_count": null,
      "outputs": []
    },
    {
      "cell_type": "code",
      "source": [
        "TEST"
      ],
      "metadata": {
        "id": "u0v_J7hdt_s2"
      },
      "execution_count": null,
      "outputs": []
    }
  ],
  "metadata": {
    "colab": {
      "provenance": []
    },
    "kernelspec": {
      "display_name": "Python 3 (ipykernel)",
      "language": "python",
      "name": "python3"
    },
    "language_info": {
      "codemirror_mode": {
        "name": "ipython",
        "version": 3
      },
      "file_extension": ".py",
      "mimetype": "text/x-python",
      "name": "python",
      "nbconvert_exporter": "python",
      "pygments_lexer": "ipython3",
      "version": "3.10.12"
    },
    "toc-autonumbering": false
  },
  "nbformat": 4,
  "nbformat_minor": 0
}